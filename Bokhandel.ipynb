{
 "cells": [
  {
   "cell_type": "code",
   "execution_count": 1,
   "metadata": {},
   "outputs": [
    {
     "name": "stdout",
     "output_type": "stream",
     "text": [
      "Connecting to database using URL string:\n",
      "mssql+pyodbc://?odbc_connect=DRIVER=ODBC+Driver+17+for+SQL+Server;SERVER=localhost;DATABASE=Bokhandel;Trusted_Connection=yes \n",
      "\n",
      "Successfully connected to Bokhandel!\n"
     ]
    }
   ],
   "source": [
    "from sqlalchemy import create_engine\n",
    "from sqlalchemy.engine import URL\n",
    "from urllib.parse import unquote\n",
    "\n",
    "server_name   = \"localhost\"\n",
    "database_name = \"Bokhandel\"\n",
    "\n",
    "connection_string = f\"DRIVER=ODBC Driver 17 for SQL Server;SERVER={server_name};DATABASE={database_name};Trusted_Connection=yes\"\n",
    "url_string        = URL.create(\"mssql+pyodbc\", query={\"odbc_connect\": connection_string})\n",
    "\n",
    "print('Connecting to database using URL string:')\n",
    "unquoted_url = unquote(str(url_string))\n",
    "print(unquoted_url, '\\n')\n",
    "\n",
    "try:    \n",
    "    engine = create_engine(url_string)\n",
    "    with engine.connect() as connection:\n",
    "        print(f'Successfully connected to {database_name}!')\n",
    "except Exception as e:\n",
    "    print('Error while connecting to database:\\n')\n",
    "    print(e)"
   ]
  },
  {
   "cell_type": "code",
   "execution_count": 7,
   "metadata": {},
   "outputs": [
    {
     "name": "stdout",
     "output_type": "stream",
     "text": [
      "Boktitel: Djurfarmen, ButikID: 1, Antal exemplar: 5\n",
      "Boktitel: Djurfarmen, ButikID: 2, Antal exemplar: 11\n",
      "Boktitel: Djurfarmen, ButikID: 3, Antal exemplar: 9\n"
     ]
    }
   ],
   "source": [
    "from sqlalchemy import text\n",
    "\n",
    "def search_books(search_term, connection):\n",
    "    query = text(\"\"\"\n",
    "    SELECT b.Titel, ls.ButikID, ls.Antal\n",
    "    FROM Böcker b\n",
    "    JOIN LagerSaldo ls ON b.ISBN13 = ls.ISBN\n",
    "    WHERE b.Titel LIKE :search_term\n",
    "    \"\"\")\n",
    "    results = connection.execute(query, {'search_term': f'%{search_term}%'}).fetchall()\n",
    "\n",
    "    return results\n",
    "\n",
    "search_term = input(\"Ange sökterm: \").strip()\n",
    "\n",
    "with engine.connect() as connection:\n",
    "    results = search_books(search_term, connection)\n",
    "    for result in results:\n",
    "        print(f\"Boktitel: {result.Titel}, ButikID: {result.ButikID}, Antal exemplar: {result.Antal}\")\n"
   ]
  }
 ],
 "metadata": {
  "kernelspec": {
   "display_name": "Databaser-fix-EibbM5Fk",
   "language": "python",
   "name": "python3"
  },
  "language_info": {
   "codemirror_mode": {
    "name": "ipython",
    "version": 3
   },
   "file_extension": ".py",
   "mimetype": "text/x-python",
   "name": "python",
   "nbconvert_exporter": "python",
   "pygments_lexer": "ipython3",
   "version": "3.9.13"
  },
  "orig_nbformat": 4
 },
 "nbformat": 4,
 "nbformat_minor": 2
}
